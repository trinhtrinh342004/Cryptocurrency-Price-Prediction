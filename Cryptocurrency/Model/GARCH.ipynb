{
 "cells": [
  {
   "cell_type": "markdown",
   "id": "38ef16d3",
   "metadata": {},
   "source": [
    "# GARCH"
   ]
  },
  {
   "cell_type": "code",
   "execution_count": 19,
   "id": "ae1c2b11",
   "metadata": {},
   "outputs": [
    {
     "name": "stdout",
     "output_type": "stream",
     "text": [
      "Defaulting to user installation because normal site-packages is not writeable\n",
      "Requirement already satisfied: numpy in c:\\users\\hii\\appdata\\roaming\\python\\python312\\site-packages (1.26.4)\n",
      "Requirement already satisfied: pandas in c:\\users\\hii\\appdata\\roaming\\python\\python312\\site-packages (2.2.3)\n",
      "Requirement already satisfied: matplotlib in c:\\users\\hii\\appdata\\roaming\\python\\python312\\site-packages (3.9.2)\n",
      "Requirement already satisfied: arch in c:\\users\\hii\\appdata\\roaming\\python\\python312\\site-packages (7.2.0)\n",
      "Requirement already satisfied: statsmodels in c:\\users\\hii\\appdata\\roaming\\python\\python312\\site-packages (0.14.4)\n",
      "Requirement already satisfied: yfinance in c:\\users\\hii\\appdata\\roaming\\python\\python312\\site-packages (0.2.55)\n",
      "Requirement already satisfied: python-dateutil>=2.8.2 in c:\\users\\hii\\appdata\\roaming\\python\\python312\\site-packages (from pandas) (2.9.0.post0)\n",
      "Requirement already satisfied: pytz>=2020.1 in c:\\users\\hii\\appdata\\roaming\\python\\python312\\site-packages (from pandas) (2024.2)\n",
      "Requirement already satisfied: tzdata>=2022.7 in c:\\users\\hii\\appdata\\roaming\\python\\python312\\site-packages (from pandas) (2024.1)\n",
      "Requirement already satisfied: contourpy>=1.0.1 in c:\\users\\hii\\appdata\\roaming\\python\\python312\\site-packages (from matplotlib) (1.3.0)\n",
      "Requirement already satisfied: cycler>=0.10 in c:\\users\\hii\\appdata\\roaming\\python\\python312\\site-packages (from matplotlib) (0.12.1)\n",
      "Requirement already satisfied: fonttools>=4.22.0 in c:\\users\\hii\\appdata\\roaming\\python\\python312\\site-packages (from matplotlib) (4.53.1)\n",
      "Requirement already satisfied: kiwisolver>=1.3.1 in c:\\users\\hii\\appdata\\roaming\\python\\python312\\site-packages (from matplotlib) (1.4.7)\n",
      "Requirement already satisfied: packaging>=20.0 in c:\\users\\hii\\appdata\\roaming\\python\\python312\\site-packages (from matplotlib) (24.1)\n",
      "Requirement already satisfied: pillow>=8 in c:\\users\\hii\\appdata\\roaming\\python\\python312\\site-packages (from matplotlib) (10.4.0)\n",
      "Requirement already satisfied: pyparsing>=2.3.1 in c:\\users\\hii\\appdata\\roaming\\python\\python312\\site-packages (from matplotlib) (3.1.4)\n",
      "Requirement already satisfied: scipy>=1.8 in c:\\users\\hii\\appdata\\roaming\\python\\python312\\site-packages (from arch) (1.14.1)\n",
      "Requirement already satisfied: patsy>=0.5.6 in c:\\users\\hii\\appdata\\roaming\\python\\python312\\site-packages (from statsmodels) (1.0.1)\n",
      "Requirement already satisfied: requests>=2.31 in c:\\users\\hii\\appdata\\roaming\\python\\python312\\site-packages (from yfinance) (2.32.3)\n",
      "Requirement already satisfied: multitasking>=0.0.7 in c:\\users\\hii\\appdata\\roaming\\python\\python312\\site-packages (from yfinance) (0.0.11)\n",
      "Requirement already satisfied: platformdirs>=2.0.0 in c:\\users\\hii\\appdata\\roaming\\python\\python312\\site-packages (from yfinance) (4.3.7)\n",
      "Requirement already satisfied: frozendict>=2.3.4 in c:\\users\\hii\\appdata\\roaming\\python\\python312\\site-packages (from yfinance) (2.4.6)\n",
      "Requirement already satisfied: peewee>=3.16.2 in c:\\users\\hii\\appdata\\roaming\\python\\python312\\site-packages (from yfinance) (3.17.9)\n",
      "Requirement already satisfied: beautifulsoup4>=4.11.1 in c:\\users\\hii\\appdata\\roaming\\python\\python312\\site-packages (from yfinance) (4.13.3)\n",
      "Requirement already satisfied: soupsieve>1.2 in c:\\users\\hii\\appdata\\roaming\\python\\python312\\site-packages (from beautifulsoup4>=4.11.1->yfinance) (2.6)\n",
      "Requirement already satisfied: typing-extensions>=4.0.0 in c:\\users\\hii\\appdata\\roaming\\python\\python312\\site-packages (from beautifulsoup4>=4.11.1->yfinance) (4.12.2)\n",
      "Requirement already satisfied: six>=1.5 in c:\\users\\hii\\appdata\\roaming\\python\\python312\\site-packages (from python-dateutil>=2.8.2->pandas) (1.16.0)\n",
      "Requirement already satisfied: charset-normalizer<4,>=2 in c:\\users\\hii\\appdata\\roaming\\python\\python312\\site-packages (from requests>=2.31->yfinance) (3.3.2)\n",
      "Requirement already satisfied: idna<4,>=2.5 in c:\\users\\hii\\appdata\\roaming\\python\\python312\\site-packages (from requests>=2.31->yfinance) (3.10)\n",
      "Requirement already satisfied: urllib3<3,>=1.21.1 in c:\\users\\hii\\appdata\\roaming\\python\\python312\\site-packages (from requests>=2.31->yfinance) (2.2.3)\n",
      "Requirement already satisfied: certifi>=2017.4.17 in c:\\users\\hii\\appdata\\roaming\\python\\python312\\site-packages (from requests>=2.31->yfinance) (2024.8.30)\n",
      "Note: you may need to restart the kernel to use updated packages.\n"
     ]
    },
    {
     "name": "stderr",
     "output_type": "stream",
     "text": [
      "\n",
      "[notice] A new release of pip is available: 24.2 -> 25.0.1\n",
      "[notice] To update, run: python.exe -m pip install --upgrade pip\n"
     ]
    }
   ],
   "source": [
    "pip install numpy pandas matplotlib arch statsmodels yfinance"
   ]
  },
  {
   "cell_type": "code",
   "execution_count": 20,
   "id": "a18cb22a",
   "metadata": {},
   "outputs": [],
   "source": [
    "import numpy as np\n",
    "import pandas as pd\n",
    "import matplotlib.pyplot as plt\n",
    "import arch\n",
    "from statsmodels.graphics.tsaplots import plot_acf, plot_pacf"
   ]
  },
  {
   "cell_type": "markdown",
   "id": "0d02b5bd",
   "metadata": {},
   "source": [
    "## Bitcoin Dataset"
   ]
  },
  {
   "cell_type": "code",
   "execution_count": 21,
   "id": "ceb37604",
   "metadata": {},
   "outputs": [],
   "source": [
    "file_path = \"C:\\\\Users\\\\Hii\\\\Documents\\\\github_desktop\\\\Cryptocurrency-Price-Prediction\\\\Cryptocurrency\\\\Dataset\\\\Bitcoin Historical Data.csv\"\n",
    "\n",
    "df = pd.read_csv(file_path)"
   ]
  },
  {
   "cell_type": "code",
   "execution_count": 22,
   "id": "cc9c4fb4",
   "metadata": {},
   "outputs": [],
   "source": [
    "# Chuyển đổi cột 'Date' sang định dạng ngày tháng\n",
    "df['Date'] = pd.to_datetime(df['Date'])\n",
    "\n",
    "# Đặt cột 'Date' làm chỉ số\n",
    "df.set_index('Date', inplace=True)\n",
    "\n",
    "# Sắp xếp dữ liệu theo ngày tháng\n",
    "df.sort_values('Date', inplace=True)\n",
    "\n",
    "price = df['Price']"
   ]
  },
  {
   "cell_type": "code",
   "execution_count": 26,
   "id": "69c59f6f",
   "metadata": {},
   "outputs": [],
   "source": [
    "# Ensure the 'price' column is numeric\n",
    "price = price.str.replace(',', '').astype(float)"
   ]
  },
  {
   "cell_type": "markdown",
   "id": "9f53f706",
   "metadata": {},
   "source": [
    "### Chia 7:3"
   ]
  },
  {
   "cell_type": "code",
   "execution_count": 27,
   "id": "6530b650",
   "metadata": {},
   "outputs": [],
   "source": [
    "train_data = price[:int(0.7 * len(price))]\n",
    "test_data = price[int(0.7 * len(price)):]"
   ]
  },
  {
   "cell_type": "markdown",
   "id": "9d64de76",
   "metadata": {},
   "source": [
    "### Chia 8:2"
   ]
  },
  {
   "cell_type": "code",
   "execution_count": 28,
   "id": "f713e7a9",
   "metadata": {},
   "outputs": [],
   "source": [
    "train_data = price[:int(0.8 * len(price))]\n",
    "test_data = price[int(0.8 * len(price)):]"
   ]
  },
  {
   "cell_type": "markdown",
   "id": "ff0d0232",
   "metadata": {},
   "source": [
    "### Chia 9:1"
   ]
  },
  {
   "cell_type": "code",
   "execution_count": 29,
   "id": "52065e73",
   "metadata": {},
   "outputs": [],
   "source": [
    "train_data = price[:int(0.9 * len(price))]\n",
    "test_data = price[int(0.9 * len(price)):]"
   ]
  },
  {
   "cell_type": "code",
   "execution_count": 30,
   "id": "41877065",
   "metadata": {},
   "outputs": [
    {
     "name": "stdout",
     "output_type": "stream",
     "text": [
      "Iteration:      1,   Func. Count:      5,   Neg. LLF: 58515.17300429332\n",
      "Iteration:      2,   Func. Count:     11,   Neg. LLF: 19765.401306811604\n",
      "Iteration:      3,   Func. Count:     15,   Neg. LLF: 19765.065163022187\n",
      "Iteration:      4,   Func. Count:     19,   Neg. LLF: 19764.1081266922\n",
      "Iteration:      5,   Func. Count:     23,   Neg. LLF: 19763.979868250488\n",
      "Iteration:      6,   Func. Count:     27,   Neg. LLF: 19763.978261686512\n",
      "Iteration:      7,   Func. Count:     31,   Neg. LLF: 19763.97825960649\n",
      "Iteration:      8,   Func. Count:     34,   Neg. LLF: 19763.978259744574\n",
      "Optimization terminated successfully    (Exit mode 0)\n",
      "            Current function value: 19763.97825960649\n",
      "            Iterations: 8\n",
      "            Function evaluations: 34\n",
      "            Gradient evaluations: 8\n"
     ]
    },
    {
     "name": "stderr",
     "output_type": "stream",
     "text": [
      "C:\\Users\\Hii\\AppData\\Roaming\\Python\\Python312\\site-packages\\arch\\univariate\\base.py:309: DataScaleWarning: y is poorly scaled, which may affect convergence of the optimizer when\n",
      "estimating the model parameters. The scale of y is 3.239e+08. Parameter\n",
      "estimation work better when this value is between 1 and 1000. The recommended\n",
      "rescaling is 0.001 * y.\n",
      "\n",
      "This warning can be disabled by either rescaling y before initializing the\n",
      "model or by setting rescale=False.\n",
      "\n",
      "  warnings.warn(\n"
     ]
    }
   ],
   "source": [
    "# Fit the GARCH model\n",
    "model = arch.arch_model(train_data, mean='Zero', vol='Garch', p=1, q=1)\n",
    "model_fit = model.fit()\n",
    "\n",
    "forecast = model_fit.forecast(horizon=len(test_data))\n",
    "\n",
    "# Extract predicted values\n",
    "predictions = np.sqrt(forecast.variance.values[-1, :])\n",
    "\n",
    "# Forecast for the next 90 days\n",
    "forecast_90 = model_fit.forecast(horizon=90)\n",
    "predictions_90 = np.sqrt(forecast_90.variance.values[-1, :])\n",
    "\n",
    "# Create future dates for 30, 60, and 90 days\n",
    "future_dates_30 = pd.date_range(start=test_data.index[-1] + pd.Timedelta(days=1), periods=30, freq='D')\n",
    "future_dates_60 = pd.date_range(start=test_data.index[-1] + pd.Timedelta(days=31), periods=30, freq='D')\n",
    "future_dates_90 = pd.date_range(start=test_data.index[-1] + pd.Timedelta(days=61), periods=30, freq='D')"
   ]
  }
 ],
 "metadata": {
  "kernelspec": {
   "display_name": "Python 3",
   "language": "python",
   "name": "python3"
  },
  "language_info": {
   "codemirror_mode": {
    "name": "ipython",
    "version": 3
   },
   "file_extension": ".py",
   "mimetype": "text/x-python",
   "name": "python",
   "nbconvert_exporter": "python",
   "pygments_lexer": "ipython3",
   "version": "3.12.6"
  }
 },
 "nbformat": 4,
 "nbformat_minor": 5
}
